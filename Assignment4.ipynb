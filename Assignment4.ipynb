{
 "cells": [
  {
   "cell_type": "code",
   "execution_count": 1,
   "id": "2f0d1137",
   "metadata": {},
   "outputs": [],
   "source": [
    "from matplotlib import pyplot as plt\n",
    "from matplotlib import patches\n",
    "import numpy as np\n",
    "import librosa\n",
    "import sounddevice as sd\n",
    "import soundfile as sf\n",
    "import IPython.display as ipd\n",
    "import librosa.display\n",
    "import scipy\n",
    "import sys\n",
    "import pandas as pd"
   ]
  },
  {
   "cell_type": "markdown",
   "id": "6427c6a6",
   "metadata": {},
   "source": [
    "We can add the columns that we are interested here"
   ]
  },
  {
   "cell_type": "code",
   "execution_count": 2,
   "id": "fcc037ba",
   "metadata": {},
   "outputs": [],
   "source": [
    "relativeHumidityColumn = \"Relative Humidity\"\n",
    "specificHumidityColumn = \"Specific Humidity\"\n",
    "temperatureColumn = \"Temperature\"\n",
    "precipitationColumn = 'Precipitation'\n",
    "yearColumn = 'Year'\n",
    "monthColumn = 'Month'\n",
    "dayColumn = 'Day'"
   ]
  },
  {
   "cell_type": "code",
   "execution_count": 3,
   "id": "056bfb84",
   "metadata": {},
   "outputs": [],
   "source": [
    "class EnvironmentData:\n",
    "    def __init__(self, csvFile):\n",
    "        self.data = pd.read_csv(csvFile)\n",
    "        self.temperatureArr = self.data[temperatureColumn]\n",
    "        self.yearArr = self.data[yearColumn]\n",
    "        self.perceivedTemperature()\n",
    "        self.perceivedTemperatureToMidi()\n",
    "        \n",
    "    def perceivedTemperature(self):\n",
    "        humidityArr = self.data[specificHumidityColumn].to_numpy()\n",
    "        temperatureArr = self.data[temperatureColumn].to_numpy()\n",
    "        self.perceivedTemperatureArr = humidityArr*temperatureArr\n",
    "    \n",
    "    # creates a midi number array by the calculation of gdp per labor\n",
    "    def perceivedTemperatureToMidi(self):\n",
    "        perceivedTempToMidi = lambda perceivedTemp : librosa.hz_to_midi(perceivedTemp)\n",
    "        self.perceivedTempToMidiArr = perceivedTempToMidi(self.perceivedTemperatureArr)"
   ]
  },
  {
   "cell_type": "code",
   "execution_count": null,
   "id": "128d21c7",
   "metadata": {},
   "outputs": [],
   "source": []
  },
  {
   "cell_type": "code",
   "execution_count": 4,
   "id": "1ab5473a",
   "metadata": {},
   "outputs": [
    {
     "ename": "NameError",
     "evalue": "name 'countryColumn' is not defined",
     "output_type": "error",
     "traceback": [
      "\u001b[0;31m---------------------------------------------------------------------------\u001b[0m",
      "\u001b[0;31mNameError\u001b[0m                                 Traceback (most recent call last)",
      "Input \u001b[0;32mIn [4]\u001b[0m, in \u001b[0;36m<cell line: 3>\u001b[0;34m()\u001b[0m\n\u001b[1;32m      1\u001b[0m csvFile \u001b[38;5;241m=\u001b[39m \u001b[38;5;124m'\u001b[39m\u001b[38;5;124m./data/Rainfall_data.csv\u001b[39m\u001b[38;5;124m'\u001b[39m\n\u001b[0;32m----> 3\u001b[0m dataDf \u001b[38;5;241m=\u001b[39m \u001b[43mEnvironmentData\u001b[49m\u001b[43m(\u001b[49m\u001b[43mcsvFile\u001b[49m\u001b[43m)\u001b[49m\n\u001b[1;32m      4\u001b[0m \u001b[38;5;28mprint\u001b[39m(dataDf\u001b[38;5;241m.\u001b[39mperceivedTempToMidiArr)\n",
      "Input \u001b[0;32mIn [3]\u001b[0m, in \u001b[0;36mEnvironmentData.__init__\u001b[0;34m(self, csvFile)\u001b[0m\n\u001b[1;32m      2\u001b[0m \u001b[38;5;28;01mdef\u001b[39;00m \u001b[38;5;21m__init__\u001b[39m(\u001b[38;5;28mself\u001b[39m, csvFile):\n\u001b[1;32m      3\u001b[0m     \u001b[38;5;28mself\u001b[39m\u001b[38;5;241m.\u001b[39mdata \u001b[38;5;241m=\u001b[39m pd\u001b[38;5;241m.\u001b[39mread_csv(csvFile)\n\u001b[0;32m----> 4\u001b[0m     \u001b[38;5;28mself\u001b[39m\u001b[38;5;241m.\u001b[39mcountries \u001b[38;5;241m=\u001b[39m \u001b[38;5;28mself\u001b[39m\u001b[38;5;241m.\u001b[39mdata[\u001b[43mcountryColumn\u001b[49m]\n\u001b[1;32m      5\u001b[0m     \u001b[38;5;28mself\u001b[39m\u001b[38;5;241m.\u001b[39mperceivedTemperature()\n\u001b[1;32m      6\u001b[0m     \u001b[38;5;28mself\u001b[39m\u001b[38;5;241m.\u001b[39mperceivedTemperatureToMidi()\n",
      "\u001b[0;31mNameError\u001b[0m: name 'countryColumn' is not defined"
     ]
    }
   ],
   "source": [
    "csvFile = './data/Rainfall_data.csv'\n",
    "\n",
    "dataDf = EnvironmentData(csvFile)\n",
    "print(dataDf.perceivedTempToMidiArr)\n"
   ]
  },
  {
   "cell_type": "code",
   "execution_count": null,
   "id": "87b95aee",
   "metadata": {},
   "outputs": [],
   "source": [
    "midiArr = dataDf.perceivedTempToMidiArr[~np.isnan(dataDf.perceivedTempToMidiArr)]\n",
    "fig = plt.figure(figsize=(12, 3))\n",
    "plt.title('Midi Histogram')\n",
    "plt.hist(midiArr, len(midiArr), color='b')\n",
    "plt.ylabel('Count', color='b')\n",
    "plt.xlabel('Midi Number')\n",
    "plt.tight_layout()"
   ]
  },
  {
   "cell_type": "code",
   "execution_count": null,
   "id": "e011b988",
   "metadata": {},
   "outputs": [],
   "source": []
  },
  {
   "cell_type": "code",
   "execution_count": null,
   "id": "5b20e635",
   "metadata": {},
   "outputs": [],
   "source": []
  }
 ],
 "metadata": {
  "kernelspec": {
   "display_name": "Python 3 (ipykernel)",
   "language": "python",
   "name": "python3"
  },
  "language_info": {
   "codemirror_mode": {
    "name": "ipython",
    "version": 3
   },
   "file_extension": ".py",
   "mimetype": "text/x-python",
   "name": "python",
   "nbconvert_exporter": "python",
   "pygments_lexer": "ipython3",
   "version": "3.9.12"
  }
 },
 "nbformat": 4,
 "nbformat_minor": 5
}
