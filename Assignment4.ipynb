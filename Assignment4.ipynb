{
 "cells": [
  {
   "cell_type": "code",
   "execution_count": null,
   "id": "bca07901",
   "metadata": {},
   "outputs": [],
   "source": [
    "from matplotlib import pyplot as plt\n",
    "from matplotlib import patches\n",
    "import numpy as np\n",
    "import librosa\n",
    "import sounddevice as sd\n",
    "import soundfile as sf\n",
    "import IPython.display as ipd\n",
    "import librosa.display\n",
    "import scipy\n",
    "import sys\n",
    "import pandas as pd"
   ]
  },
  {
   "cell_type": "code",
   "execution_count": null,
   "id": "9c0a7c4c",
   "metadata": {},
   "outputs": [],
   "source": [
    "class EnvironmentData:\n",
    "    def __init__(self, csvFile):\n",
    "        self.data = pd.read_csv(csvFile)"
   ]
  },
  {
   "cell_type": "code",
   "execution_count": null,
   "id": "8222fd95",
   "metadata": {},
   "outputs": [],
   "source": [
    "csvFile = './data/tasmax_timeseries_monthly_cru_1901-2021_GBR.csv'\n",
    "\n",
    "environmentDataOfUK = EnvironmentData(csvFile)\n",
    "\n"
   ]
  }
 ],
 "metadata": {
  "kernelspec": {
   "display_name": "Python 3 (ipykernel)",
   "language": "python",
   "name": "python3"
  },
  "language_info": {
   "codemirror_mode": {
    "name": "ipython",
    "version": 3
   },
   "file_extension": ".py",
   "mimetype": "text/x-python",
   "name": "python",
   "nbconvert_exporter": "python",
   "pygments_lexer": "ipython3",
   "version": "3.9.12"
  }
 },
 "nbformat": 4,
 "nbformat_minor": 5
}
