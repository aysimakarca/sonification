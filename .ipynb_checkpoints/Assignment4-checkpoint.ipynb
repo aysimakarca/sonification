{
 "cells": [
  {
   "cell_type": "code",
   "execution_count": 1,
   "id": "2f0d1137",
   "metadata": {},
   "outputs": [],
   "source": [
    "from matplotlib import pyplot as plt\n",
    "from matplotlib import patches\n",
    "import numpy as np\n",
    "import librosa\n",
    "import sounddevice as sd\n",
    "import soundfile as sf\n",
    "import IPython.display as ipd\n",
    "import librosa.display\n",
    "import scipy\n",
    "import sys\n",
    "import pandas as pd"
   ]
  },
  {
   "cell_type": "markdown",
   "id": "6427c6a6",
   "metadata": {},
   "source": [
    "We can add the columns that we are interested here"
   ]
  },
  {
   "cell_type": "code",
   "execution_count": 2,
   "id": "fcc037ba",
   "metadata": {},
   "outputs": [],
   "source": [
    "birthRateColumn = \"Birth rate(births/1000 population)\"\n",
    "deathRateColumn = \"Death rate(deaths/1000 population)\"\n",
    "gdpColumn = \"GDP\"\n",
    "countryColumn = 'Country'\n",
    "laborForceColumn = 'Labor force'"
   ]
  },
  {
   "cell_type": "code",
   "execution_count": 3,
   "id": "056bfb84",
   "metadata": {},
   "outputs": [],
   "source": [
    "class EnvironmentData:\n",
    "    def __init__(self, csvFile):\n",
    "        self.data = pd.read_csv(csvFile)\n",
    "        self.countries = self.data[countryColumn]\n",
    "        self.gdpPerLabor()\n",
    "        self.gdpPerLaborToMidi()\n",
    "        \n",
    "    def gdpPerLabor(self):\n",
    "        laborForces = self.data[laborForceColumn].to_numpy()\n",
    "        gdps = self.data[gdpColumn].to_numpy()\n",
    "        self.gdpPerLaborArr = gdps/laborForces\n",
    "    \n",
    "    # creates a midi number array by the calculation of gdp per labor\n",
    "    def gdpPerLaborToMidi(self):\n",
    "        mapGdpPerLaborToMidi = lambda gdp: librosa.hz_to_midi(gdp)\n",
    "        self.gdpPerLaborMidiArr = mapGdpPerLaborToMidi(self.gdpPerLaborArr)"
   ]
  },
  {
   "cell_type": "code",
   "execution_count": null,
   "id": "128d21c7",
   "metadata": {},
   "outputs": [],
   "source": []
  },
  {
   "cell_type": "code",
   "execution_count": 4,
   "id": "1ab5473a",
   "metadata": {},
   "outputs": [
    {
     "name": "stdout",
     "output_type": "stream",
     "text": [
      "[ 93.59969246          nan 131.23293708 136.2660009  145.1142472\n",
      " 153.38176986 108.39578539 133.74099399          nan 138.93936913\n",
      " 143.29276786 122.63792148 149.77471292          nan 153.83455409\n",
      " 157.76717456 113.92956394 144.23324785 144.84451743          nan\n",
      " 108.09812763 145.03755299          nan 131.61555223 155.89428738\n",
      " 134.863333            nan 154.71449686          nan 113.87203798\n",
      " 139.31327146 153.21007582          nan 132.02067553          nan\n",
      " 174.55554855 148.45015454 133.38359526 103.06632134 100.7315177\n",
      "  88.25567658 106.57707265 109.31543112 153.77386982          nan\n",
      " 156.80935462          nan          nan 140.44667046 122.2704282\n",
      "          nan          nan          nan 128.37366422 102.52960481\n",
      " 101.91556752          nan 127.78404107 135.90267561 105.8564131\n",
      " 141.76529926 117.99146749 150.15199126 143.64058177 154.31556077\n",
      "          nan  96.82402582 130.50637059          nan          nan\n",
      " 124.61473878 130.40782402 125.88824112          nan          nan\n",
      " 141.59008199          nan          nan 152.33128867 156.30887685\n",
      " 147.60355216 146.07813557 153.15975186 154.85991046 139.86795951\n",
      " 155.59528125          nan 126.59722113 116.89516984  84.21059864\n",
      " 116.60439397 152.71704804 110.05602819 151.60486906          nan\n",
      " 151.43581434 149.07603043 123.75838232 140.84133551 152.05668198\n",
      " 131.38570771 159.12174501 115.61837147  96.05776679 116.74086069\n",
      " 104.12866687          nan          nan 118.34168029 155.80943188\n",
      "          nan 145.15737051 153.88831417 116.60963573 117.91158982\n",
      " 137.08854826 128.14688419 155.70205096 150.28102591 155.82325174\n",
      " 122.66126921          nan 152.87677814          nan 156.31215602\n",
      "          nan 133.33385701          nan 129.97193978 102.47393574\n",
      "          nan 123.1421002  103.43989215 147.2473727  144.16195371\n",
      " 103.05694934 108.61929733 137.24962574 117.49048851 116.97791823\n",
      "          nan 137.92136224 141.17632662 140.74512837 161.65502635\n",
      " 146.77448421 132.10110183  95.16559869  91.84767735 136.61489212\n",
      " 129.15246398 101.03192253 149.17054718 152.02557559 107.24322948\n",
      " 145.66635667 117.00175197 140.90135392 122.30731295 141.48874386\n",
      "          nan          nan 115.10356445 141.20001606 105.3087219\n",
      " 115.38916378 126.53888222  99.35992482 132.83500985          nan\n",
      "          nan 107.00847032 155.18361235 140.60708609 146.9778351\n",
      " 149.16405697 115.33313056 168.61545995  97.31324679          nan\n",
      "          nan 169.94161545 158.38995403 147.67271025 118.42667726\n",
      " 132.93572233          nan 130.75627836 105.444013   125.11822439\n",
      " 129.04688366 126.24390597          nan 140.40160587 144.48239149\n",
      " 151.96069913 168.66705629 129.80092892 133.01359378 134.72809895\n",
      "  97.38549555 111.56393581 133.87295424 134.87746585 129.87673697\n",
      " 111.43425475 124.90026911 151.21785782          nan 149.81577876\n",
      " 106.9882561  119.66036354 135.29890182  98.62786663 152.73320245\n",
      " 145.18429896 149.22992531 141.98361593  86.9711036  141.83354826\n",
      "          nan 150.41380318          nan 124.88165908 116.71827243\n",
      " 133.37200393          nan 130.89047054 153.28794691 155.95880831\n",
      " 125.9485502  153.01832556  99.03816495  87.04704978 129.39592069\n",
      " 111.04436389          nan 117.37827635 134.60026138          nan\n",
      " 135.04694694 135.1683645  126.08275353 148.94306849  92.8305467\n",
      " 103.20901047 129.10864797 140.25815485 154.04921213 159.01445992\n",
      " 142.9861933  103.62200966          nan 126.01934844 112.03980022\n",
      " 151.32449269          nan          nan 110.88493347          nan\n",
      " 100.5197628   95.48944533 113.52961504]\n"
     ]
    }
   ],
   "source": [
    "csvFile = './data/factbook.csv'\n",
    "\n",
    "dataDf = EnvironmentData(csvFile)\n",
    "print(dataDf.gdpPerLaborMidiArr)\n"
   ]
  },
  {
   "cell_type": "code",
   "execution_count": 6,
   "id": "87b95aee",
   "metadata": {},
   "outputs": [
    {
     "data": {
      "image/png": "[encoded data removed]",
      "text/plain": [
       "<Figure size 864x216 with 1 Axes>"
      ]
     },
     "metadata": {
      "needs_background": "light"
     },
     "output_type": "display_data"
    }
   ],
   "source": [
    "midiArr = dataDf.gdpPerLaborMidiArr[~np.isnan(dataDf.gdpPerLaborMidiArr)]\n",
    "fig = plt.figure(figsize=(12, 3))\n",
    "plt.title('Midi Histogram')\n",
    "plt.hist(midiArr, len(midiArr), color='b')\n",
    "plt.ylabel('Count', color='b')\n",
    "plt.xlabel('Midi Number')\n",
    "plt.tight_layout()"
   ]
  },
  {
   "cell_type": "code",
   "execution_count": null,
   "id": "e011b988",
   "metadata": {},
   "outputs": [],
   "source": []
  },
  {
   "cell_type": "code",
   "execution_count": null,
   "id": "5b20e635",
   "metadata": {},
   "outputs": [],
   "source": []
  }
 ],
 "metadata": {
  "kernelspec": {
   "display_name": "Python 3 (ipykernel)",
   "language": "python",
   "name": "python3"
  },
  "language_info": {
   "codemirror_mode": {
    "name": "ipython",
    "version": 3
   },
   "file_extension": ".py",
   "mimetype": "text/x-python",
   "name": "python",
   "nbconvert_exporter": "python",
   "pygments_lexer": "ipython3",
   "version": "3.9.12"
  }
 },
 "nbformat": 4,
 "nbformat_minor": 5
}
