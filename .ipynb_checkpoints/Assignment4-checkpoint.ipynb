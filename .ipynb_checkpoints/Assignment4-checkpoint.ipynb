{
 "cells": [
  {
   "cell_type": "code",
   "execution_count": 1,
   "id": "2f0d1137",
   "metadata": {},
   "outputs": [],
   "source": [
    "from matplotlib import pyplot as plt\n",
    "from matplotlib import patches\n",
    "import numpy as np\n",
    "import librosa\n",
    "import sounddevice as sd\n",
    "import soundfile as sf\n",
    "import IPython.display as ipd\n",
    "import librosa.display\n",
    "import scipy\n",
    "import sys\n",
    "import pandas as pd"
   ]
  },
  {
   "cell_type": "markdown",
   "id": "6427c6a6",
   "metadata": {},
   "source": [
    "We can add the columns that we are interested here"
   ]
  },
  {
   "cell_type": "code",
   "execution_count": 2,
   "id": "fcc037ba",
   "metadata": {},
   "outputs": [],
   "source": [
    "relativeHumidityColumn = \"Relative Humidity\"\n",
    "specificHumidityColumn = \"Specific Humidity\"\n",
    "temperatureColumn = \"Temperature\"\n",
    "precipitationColumn = 'Precipitation'\n",
    "yearColumn = 'Year'\n",
    "monthColumn = 'Month'\n",
    "dayColumn = 'Day'"
   ]
  },
  {
   "cell_type": "markdown",
   "id": "deea25e5",
   "metadata": {},
   "source": [
    "We can use arrayToMidi function to map any numpy array to midi number array"
   ]
  },
  {
   "cell_type": "code",
   "execution_count": 3,
   "id": "f80c57eb",
   "metadata": {},
   "outputs": [],
   "source": [
    " def arrayToMidi(array):\n",
    "        midiMapping = lambda item : librosa.hz_to_midi(item)\n",
    "        return midiMapping(array)"
   ]
  },
  {
   "cell_type": "code",
   "execution_count": 4,
   "id": "056bfb84",
   "metadata": {},
   "outputs": [],
   "source": [
    "class EnvironmentData:\n",
    "    def __init__(self, csvFile):\n",
    "        self.data = pd.read_csv(csvFile)\n",
    "        self.temperatureArr = self.data[temperatureColumn].to_numpy()\n",
    "        self.yearArr = self.data[yearColumn]\n",
    "        self.perceivedTemperature()\n",
    "        self.perceivedTemperatureToMidi()\n",
    "        \n",
    "    def perceivedTemperature(self):\n",
    "        humidityArr = self.data[specificHumidityColumn].to_numpy()\n",
    "        temperatureArr = self.data[temperatureColumn].to_numpy()\n",
    "        self.perceivedTemperatureArr = humidityArr*temperatureArr\n",
    "    \n",
    "    # creates a midi number array by the calculation of gdp per labor\n",
    "    def perceivedTemperatureToMidi(self):\n",
    "        perceivedTempToMidi = lambda perceivedTemp : librosa.hz_to_midi(perceivedTemp)\n",
    "        self.perceivedTempToMidiArr = perceivedTempToMidi(self.perceivedTemperatureArr)"
   ]
  },
  {
   "cell_type": "code",
   "execution_count": null,
   "id": "128d21c7",
   "metadata": {},
   "outputs": [],
   "source": []
  },
  {
   "cell_type": "code",
   "execution_count": 5,
   "id": "1ab5473a",
   "metadata": {},
   "outputs": [
    {
     "name": "stdout",
     "output_type": "stream",
     "text": [
      "[23.93 25.83 26.68 22.49 19.07  7.91  6.67  7.07 10.63 15.38 17.48 20.09\n",
      " 22.94 22.7  20.97 22.73 16.03  9.83  5.98  5.47 10.91 14.76 18.25 17.97\n",
      " 23.58 25.44 23.32 21.04 19.38 13.12  6.26  6.24 12.04 17.16 18.57 23.45\n",
      " 25.19 21.83 23.27 21.49 20.51 14.93  5.22  5.56  7.65 15.73 16.23 20.71\n",
      " 22.16 24.88 23.07 18.28 21.23 11.2   6.24  5.7  10.34 14.52 16.66 18.29\n",
      " 22.85 26.7  24.38 23.25 18.37 12.55  4.91  6.21  9.   16.19 17.23 19.3\n",
      " 23.38 24.25 23.8  19.78 16.48  8.96  4.73  5.13  8.38 14.12 13.64 17.57\n",
      " 22.68 20.73 25.3  23.7  15.14 10.63  6.21  6.16  8.16 14.66 18.42 20.99\n",
      " 23.96 29.28 22.02 21.89 15.66 12.2   5.33  6.88 10.93 16.25 17.81 20.38\n",
      " 24.01 25.62 23.08 22.87 16.99 11.15  5.26  6.26  9.84 15.39 16.66 18.44\n",
      " 20.45 23.31 23.78 21.23 15.62 10.43  6.21  6.07  9.36 13.84 13.91 19.12\n",
      " 22.66 22.02 23.73 20.6  15.72 11.82  7.24  6.05  8.3  14.62 16.54 20.41\n",
      " 21.98 29.15 27.43 20.14 15.54 13.49  6.79  5.54 10.54 14.91 17.12 17.77\n",
      " 22.33 23.1  22.1  20.92 17.23 10.9   4.83  5.59  8.92 14.21 16.74 17.84\n",
      " 22.52 22.5  26.31 22.52 17.28 13.32  9.27  7.85 10.76 14.91 16.23 21.85\n",
      " 21.37 22.51 29.34 21.41 16.24 12.81  6.74  7.28 13.56 14.72 15.36 22.91\n",
      " 24.46 23.57 23.17 19.66 16.02 13.92  5.2   5.83  8.02 15.45 18.4  20.38\n",
      " 23.98 24.93 27.39 23.02 16.91 12.02  5.37  6.88 10.27 15.91 15.95 16.84\n",
      " 21.09 24.09 23.45 20.49 16.92 13.05  5.98  5.61 12.2  17.13 17.18 21.98\n",
      " 23.41 27.1  26.17 24.02 18.42 13.71  6.38  6.16  6.7  11.93 13.65 17.22\n",
      " 22.98 24.97 24.87 22.09 16.63 11.76  7.08  5.34  9.22 12.62 16.95 17.77]\n",
      "midis\n",
      "[18.59266534 19.9153923  20.47592457 17.51822451 14.6624787  -0.57218423\n",
      " -3.52407543 -2.51579398  4.54451974 10.93948662 13.15528279 15.56455135\n",
      " 17.86120527 17.67912815 16.30674291 17.70199279 11.65611368  3.18998044\n",
      " -5.41457075 -6.95782657  4.9946338  10.22713323 13.90157814 13.63390548\n",
      " 18.3375852  19.65200462 18.14563404 16.36443703 14.94164343  8.18803322\n",
      " -4.62236468 -4.67776421  6.70084528 12.83541521 14.20250636 18.24187565\n",
      " 19.48103404 17.00256614 18.10847511 16.73080637 15.92275048 10.42539056\n",
      " -7.76771888 -6.67529797 -1.15079959 11.32904463 11.87077657 16.09075122\n",
      " 17.26231515 19.2666584  17.95903662 13.93001342 16.52007303  5.44880536\n",
      " -4.67776421 -6.24477353  4.0656548   9.94331802 12.32348138 13.93948148\n",
      " 17.79315056 20.48889748 18.91519809 18.09358917 14.01504009  7.41906895\n",
      " -8.82764027 -4.76119734  1.66278346 11.8280564  12.905893   14.87003075\n",
      " 18.19011973 18.82263754 18.49835946 15.29532969 12.13541549  1.58566823\n",
      " -9.47423436 -8.06881065  0.42708636  9.45970164  8.86094431 13.24419087\n",
      " 17.66386826 16.10746197 19.5564692  18.42546529 10.66720304  4.54451974\n",
      " -4.76119734 -4.90115235 -0.03348674 10.10944182 14.06209731 16.32324658\n",
      " 18.61435547 22.08580722 17.1525942  17.05008403 11.25183113  6.92939435\n",
      " -7.40669017 -2.98741378  5.02634139 11.89209719 13.47907077 15.81266919\n",
      " 18.65044542 19.77406628 17.96653926 17.80829697 12.66305081  5.3713451\n",
      " -7.63556297 -4.62236468  3.20758322 10.95073936 12.32348138 14.08088445\n",
      " 15.87203069 18.13820863 18.48380516 16.52007303 11.20755402  4.21569047\n",
      " -4.76119734 -5.15595836  2.3417858   9.11294789  9.20028961 14.70781086\n",
      " 17.64859491 17.1525942  18.44736578 15.99855263 11.31803519  6.381581\n",
      " -2.10444019 -5.21309485  0.26101948 10.06214031 12.19833139 15.83813476\n",
      " 17.12111721 22.00877118 20.95587604 15.60758478 11.11865862  8.66950476\n",
      " -3.21537767 -6.73768485  4.39731898 10.40218367 12.795013   13.44014475\n",
      " 17.39461959 17.9815348  17.21537701 16.2654148  12.905893    4.9787582\n",
      " -9.11203829 -6.58213717  1.50820796  9.56969923 12.40641491 13.50820796\n",
      " 17.54130251 17.52592059 20.23415556 17.54130251 12.95605919  8.44994957\n",
      "  2.1745155  -0.70400471  4.75495751 10.40218367 11.87077657 17.01841993\n",
      " 16.63386347 17.53361326 22.12124703 16.66623813 11.88144017  7.77406628\n",
      " -3.34333347 -2.00905516  8.75910672 10.18015263 10.91695917 17.83855008\n",
      " 18.97191342 18.33024168 18.03391711 15.18998044 11.64531035  9.21273111\n",
      " -7.83417708 -5.85436596 -0.33308972 11.01810263 14.04328977 15.81266919\n",
      " 18.62880048 19.30141517 20.93061177 17.92147458 12.58134049  6.67206333\n",
      " -7.2772515  -2.98741378  3.94805476 11.5260266  11.56949766 12.50952624\n",
      " 16.40552972 18.7080333  18.24187565 15.90586039 12.5915754   8.09541826\n",
      " -5.41457075 -6.52030731  6.92939435 12.80512239 12.85558101 17.12111721\n",
      " 18.21231979 20.7463348  20.14178767 18.65765439 14.06209731  8.94956343\n",
      " -4.29363947 -4.90115235 -3.44638342  6.54194909  8.87363199 12.89584229\n",
      " 17.89136615 19.32917043 19.25969867 17.2075416  12.2922786   6.2934773\n",
      " -2.49132424 -7.37423966  2.08088445  7.5153635  12.62224386 13.44014475]\n"
     ]
    }
   ],
   "source": [
    "csvFile = './data/Rainfall_data.csv'\n",
    "\n",
    "dataDf = EnvironmentData(csvFile)\n",
    "#print(dataDf.perceivedTempToMidiArr)\n",
    "\n",
    "print(dataDf.temperatureArr)\n",
    "midis = arrayToMidi(dataDf.temperatureArr)\n",
    "print('midis')\n",
    "print(midis)"
   ]
  },
  {
   "cell_type": "code",
   "execution_count": 6,
   "id": "87b95aee",
   "metadata": {},
   "outputs": [
    {
     "data": {
      "image/png": "[encoded data removed]",
      "text/plain": [
       "<Figure size 864x216 with 1 Axes>"
      ]
     },
     "metadata": {
      "needs_background": "light"
     },
     "output_type": "display_data"
    }
   ],
   "source": [
    "midiArr = dataDf.perceivedTempToMidiArr[~np.isnan(dataDf.perceivedTempToMidiArr)]\n",
    "fig = plt.figure(figsize=(12, 3))\n",
    "plt.title('Midi Histogram')\n",
    "plt.hist(midiArr, len(midiArr), color='b')\n",
    "plt.ylabel('Count', color='b')\n",
    "plt.xlabel('Midi Number')\n",
    "plt.tight_layout()"
   ]
  },
  {
   "cell_type": "code",
   "execution_count": null,
   "id": "e011b988",
   "metadata": {},
   "outputs": [],
   "source": []
  },
  {
   "cell_type": "markdown",
   "id": "c3466f4b",
   "metadata": {},
   "source": []
  }
 ],
 "metadata": {
  "kernelspec": {
   "display_name": "Python 3 (ipykernel)",
   "language": "python",
   "name": "python3"
  },
  "language_info": {
   "codemirror_mode": {
    "name": "ipython",
    "version": 3
   },
   "file_extension": ".py",
   "mimetype": "text/x-python",
   "name": "python",
   "nbconvert_exporter": "python",
   "pygments_lexer": "ipython3",
   "version": "3.9.12"
  }
 },
 "nbformat": 4,
 "nbformat_minor": 5
}
