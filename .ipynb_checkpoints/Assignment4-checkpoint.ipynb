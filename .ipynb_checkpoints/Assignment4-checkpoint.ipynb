{
 "cells": [
  {
   "cell_type": "code",
   "execution_count": 1,
   "id": "2f0d1137",
   "metadata": {},
   "outputs": [],
   "source": [
    "from matplotlib import pyplot as plt\n",
    "from matplotlib import patches\n",
    "import numpy as np\n",
    "import librosa\n",
    "import sounddevice as sd\n",
    "import soundfile as sf\n",
    "import IPython.display as ipd\n",
    "import librosa.display\n",
    "import scipy\n",
    "import sys\n",
    "import pandas as pd"
   ]
  },
  {
   "cell_type": "code",
   "execution_count": 2,
   "id": "056bfb84",
   "metadata": {},
   "outputs": [],
   "source": [
    "class EnvironmentData:\n",
    "    def __init__(self, csvFile):\n",
    "        self.data = pd.read_csv(csvFile)"
   ]
  },
  {
   "cell_type": "code",
   "execution_count": 3,
   "id": "1ab5473a",
   "metadata": {},
   "outputs": [
    {
     "name": "stdout",
     "output_type": "stream",
     "text": [
      "     Unnamed: 0   Jan   Feb    Mar    Apr    May    Jun    Jul    Aug    Sep  \\\n",
      "0          1901  5.63  4.30   6.43  11.72  15.95  17.24  21.12  19.03  16.65   \n",
      "1          1902  6.27  4.04   9.13  11.23  12.13  16.40  17.81  17.42  16.24   \n",
      "2          1903  5.61  8.50   8.76   9.20  14.26  16.37  17.99  17.14  15.85   \n",
      "3          1904  6.05  4.85   6.88  11.36  13.91  17.21  19.51  18.50  15.96   \n",
      "4          1905  6.39  6.54   8.84   9.68  14.86  18.18  20.16  17.68  15.27   \n",
      "..          ...   ...   ...    ...    ...    ...    ...    ...    ...    ...   \n",
      "116        2017  6.51  7.63  10.66  12.10  16.80  18.80  19.50  18.84  16.17   \n",
      "117        2018  6.57  5.15   6.92  12.10  17.07  19.80  22.02  19.56  16.60   \n",
      "118        2019  6.34  9.23  10.09  12.96  14.70  17.90  20.78  20.06  17.19   \n",
      "119        2020  7.86  7.84   9.23  13.82  16.58  18.32  18.59  20.00  17.28   \n",
      "120        2021  5.00  6.73   9.75  10.83  13.71  18.68  20.85  19.08  18.49   \n",
      "\n",
      "       Oct    Nov   Dec  \n",
      "0    12.12   8.22  5.40  \n",
      "1    11.79   9.22  6.27  \n",
      "2    12.04   8.38  4.75  \n",
      "3    12.50   8.11  6.54  \n",
      "4    10.12   7.20  7.38  \n",
      "..     ...    ...   ...  \n",
      "116  14.17   8.74  6.84  \n",
      "117  13.24   9.71  8.22  \n",
      "118  12.45   8.14  7.71  \n",
      "119  12.50  10.33  6.78  \n",
      "120  14.04   9.91  7.64  \n",
      "\n",
      "[121 rows x 13 columns]\n"
     ]
    }
   ],
   "source": [
    "csvFile = './data/UK.csv'\n",
    "\n",
    "environmentDataOfUK = EnvironmentData(csvFile)\n",
    "print(environmentDataOfUK.data)\n",
    "\n"
   ]
  },
  {
   "cell_type": "code",
   "execution_count": null,
   "id": "5b20e635",
   "metadata": {},
   "outputs": [],
   "source": []
  }
 ],
 "metadata": {
  "kernelspec": {
   "display_name": "Python 3 (ipykernel)",
   "language": "python",
   "name": "python3"
  },
  "language_info": {
   "codemirror_mode": {
    "name": "ipython",
    "version": 3
   },
   "file_extension": ".py",
   "mimetype": "text/x-python",
   "name": "python",
   "nbconvert_exporter": "python",
   "pygments_lexer": "ipython3",
   "version": "3.9.12"
  }
 },
 "nbformat": 4,
 "nbformat_minor": 5
}
